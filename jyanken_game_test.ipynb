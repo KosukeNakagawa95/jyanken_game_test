{
  "nbformat": 4,
  "nbformat_minor": 0,
  "metadata": {
    "colab": {
      "provenance": []
    },
    "kernelspec": {
      "name": "python3",
      "display_name": "Python 3"
    },
    "language_info": {
      "name": "python"
    }
  },
  "cells": [
    {
      "cell_type": "code",
      "source": [
        "import random\n",
        "\n",
        "print(\"じゃんけんゲームの世界にようこそ！\")\n",
        "\n",
        "#相手の出す手をランダムに決める\n",
        "#0がグー、1がチョキ、2がパーとする\n",
        "cpu_choice = random.randint(0, 2)\n",
        "\n",
        "print(f\"CPUの出した手は{cpu_choice}です。\")"
      ],
      "metadata": {
        "colab": {
          "base_uri": "https://localhost:8080/"
        },
        "id": "mSqqBtFixjuj",
        "outputId": "196604f0-46bb-417c-9117-12a1b3737e18"
      },
      "execution_count": null,
      "outputs": [
        {
          "output_type": "stream",
          "name": "stdout",
          "text": [
            "じゃんけんゲームの世界にようこそ！\n",
            "CPUの出した手は1です。\n"
          ]
        }
      ]
    }
  ]
}